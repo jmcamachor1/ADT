{
 "cells": [
  {
   "cell_type": "code",
   "execution_count": 4,
   "id": "83c295b1",
   "metadata": {},
   "outputs": [
    {
     "name": "stdout",
     "output_type": "stream",
     "text": [
      "The autoreload extension is already loaded. To reload it, use:\n",
      "  %reload_ext autoreload\n"
     ]
    }
   ],
   "source": [
    "%load_ext autoreload\n",
    "%autoreload 2\n",
    "import time, json\n",
    "from pirates_attacker_solvers import Attacker_APS_fixed_h"
   ]
  },
  {
   "cell_type": "code",
   "execution_count": null,
   "id": "76aeaa6e",
   "metadata": {},
   "outputs": [],
   "source": [
    "#pirates_APS = Attacker_APS_fixed_h(h = 30, N1 =  1000, N2 = 200)\n",
    "#A1_d1_APS = pirates_APS.A1_dist_APS()\n",
    "#A1_d1_APS_sf = {i: [round(j,4) for j in  (A1_d1_APS[i])] for i in A1_d1_APS.keys()}\n",
    "#with open('A1_d1_APS_30_05.json', 'w') as json_file:\n",
    "#    json.dump(A1_d1_APS_sf, json_file)"
   ]
  },
  {
   "cell_type": "code",
   "execution_count": 10,
   "id": "fe7d4818",
   "metadata": {},
   "outputs": [],
   "source": [
    "# Open the JSON file\n",
    "with open('A1_d1_APS.json', 'r') as file:\n",
    "    APS_r = json.load(file)"
   ]
  },
  {
   "cell_type": "code",
   "execution_count": 11,
   "id": "2f937707",
   "metadata": {},
   "outputs": [
    {
     "data": {
      "text/plain": [
       "{'0': [0.001, 0.221, 0.283, 0.254, 0.241],\n",
       " '1': [0.009, 0.018, 0.336, 0.297, 0.34],\n",
       " '2': [0.008, 0.001, 0.308, 0.355, 0.328],\n",
       " '3': [0.008, 0.0, 0.327, 0.331, 0.334]}"
      ]
     },
     "execution_count": 11,
     "metadata": {},
     "output_type": "execute_result"
    }
   ],
   "source": [
    "APS_r"
   ]
  }
 ],
 "metadata": {
  "kernelspec": {
   "display_name": "Python 3 (ipykernel)",
   "language": "python",
   "name": "python3"
  },
  "language_info": {
   "codemirror_mode": {
    "name": "ipython",
    "version": 3
   },
   "file_extension": ".py",
   "mimetype": "text/x-python",
   "name": "python",
   "nbconvert_exporter": "python",
   "pygments_lexer": "ipython3",
   "version": "3.10.9"
  }
 },
 "nbformat": 4,
 "nbformat_minor": 5
}
