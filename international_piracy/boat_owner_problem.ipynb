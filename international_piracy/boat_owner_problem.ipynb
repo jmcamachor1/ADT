{
 "cells": [
  {
   "cell_type": "code",
   "execution_count": 2,
   "id": "bbe9430a",
   "metadata": {},
   "outputs": [],
   "source": [
    "%load_ext autoreload\n",
    "%autoreload 2\n",
    "import time, json\n",
    "from pirates_defender_solvers import Defender_APS_fixed_h"
   ]
  },
  {
   "cell_type": "code",
   "execution_count": 9,
   "id": "f077a77c",
   "metadata": {},
   "outputs": [],
   "source": [
    "with open('A1_d1_APS.json', 'r') as json_file:\n",
    "    A1_d1_APS = json.load(json_file)\n",
    "A1_d1_APS = {int(i):A1_d1_APS[i] for i in A1_d1_APS.keys()}"
   ]
  },
  {
   "cell_type": "code",
   "execution_count": 10,
   "id": "5abd2ff1",
   "metadata": {},
   "outputs": [
    {
     "data": {
      "text/plain": [
       "{0: [0.001, 0.221, 0.283, 0.254, 0.241],\n",
       " 1: [0.009, 0.018, 0.336, 0.297, 0.34],\n",
       " 2: [0.008, 0.001, 0.308, 0.355, 0.328],\n",
       " 3: [0.008, 0.0, 0.327, 0.331, 0.334]}"
      ]
     },
     "execution_count": 10,
     "metadata": {},
     "output_type": "execute_result"
    }
   ],
   "source": [
    "A1_d1_APS"
   ]
  },
  {
   "cell_type": "code",
   "execution_count": 5,
   "id": "f587b145",
   "metadata": {},
   "outputs": [],
   "source": [
    "boat_owner_APS = Defender_APS_fixed_h(A1_d1 =A1_d1_APS, h  = 325 , N  = 1000, burn = 0.75)\n",
    "boat_owner_APS.defender.scaled = True\n",
    "boat_owner_APS.defender.risk_aversion = 0.1"
   ]
  },
  {
   "cell_type": "code",
   "execution_count": 6,
   "id": "d8c82a32",
   "metadata": {},
   "outputs": [
    {
     "data": {
      "text/plain": [
       "0.1"
      ]
     },
     "execution_count": 6,
     "metadata": {},
     "output_type": "execute_result"
    }
   ],
   "source": [
    "boat_owner_APS.defender.risk_aversion"
   ]
  },
  {
   "cell_type": "code",
   "execution_count": 7,
   "id": "f28d499f",
   "metadata": {},
   "outputs": [
    {
     "name": "stderr",
     "output_type": "stream",
     "text": [
      "C:\\Users\\ICMAT.DESKTOP-P8IA72N\\Desktop\\ICMAT\\ADT_GITHUB_prep\\pirates\\pirates_defender_solvers.py:65: FutureWarning: Unlike other reduction functions (e.g. `skew`, `kurtosis`), the default behavior of `mode` typically preserves the axis it acts along. In SciPy 1.11.0, this behavior will change: the default value of `keepdims` will become False, the `axis` over which the statistic is taken will be eliminated, and the value None will no longer be accepted. Set `keepdims` to True or False to avoid this warning.\n",
      "  d1_opt = mode(d1_samples[int(self.burn*self.N):])[0][0]\n"
     ]
    },
    {
     "data": {
      "text/plain": [
       "(1, Counter({3: 27, 0: 57, 1: 96, 2: 70}))"
      ]
     },
     "execution_count": 7,
     "metadata": {},
     "output_type": "execute_result"
    }
   ],
   "source": [
    "boat_owner_APS.D1_star(init_val = 'r')"
   ]
  },
  {
   "cell_type": "code",
   "execution_count": 8,
   "id": "0f52d9c5",
   "metadata": {},
   "outputs": [
    {
     "data": {
      "text/plain": [
       "1"
      ]
     },
     "execution_count": 8,
     "metadata": {},
     "output_type": "execute_result"
    }
   ],
   "source": [
    "boat_owner_APS.defender.d2_opt(d1 = 1, theta1 = 1)"
   ]
  }
 ],
 "metadata": {
  "kernelspec": {
   "display_name": "Python 3 (ipykernel)",
   "language": "python",
   "name": "python3"
  },
  "language_info": {
   "codemirror_mode": {
    "name": "ipython",
    "version": 3
   },
   "file_extension": ".py",
   "mimetype": "text/x-python",
   "name": "python",
   "nbconvert_exporter": "python",
   "pygments_lexer": "ipython3",
   "version": "3.10.9"
  }
 },
 "nbformat": 4,
 "nbformat_minor": 5
}
