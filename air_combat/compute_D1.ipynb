{
 "cells": [
  {
   "cell_type": "code",
   "execution_count": 1,
   "id": "8f6912c8",
   "metadata": {},
   "outputs": [],
   "source": [
    "%load_ext autoreload\n",
    "%autoreload 2\n",
    "import time, json\n",
    "from defender_air_combat_solvers import Defender_APS_fixed_h"
   ]
  },
  {
   "cell_type": "code",
   "execution_count": 2,
   "id": "c37e264d",
   "metadata": {},
   "outputs": [],
   "source": [
    "with open('A2_APS_r_air_combat.json', 'r') as file:\n",
    "    A2_APS_r = json.load(file)\n",
    "\n",
    "rounded_A2_r_APS = {int(k1): {int(k2): {int(k3): [round(i, 4) for i in A2_APS_r[k1][k2][k3]]for k3 in A2_APS_r[k1][k2]}for k2 in A2_APS_r[k1]}for k1 in A2_APS_r}\n",
    "\n",
    "with open('A1_r_APS.json', 'r') as file:\n",
    "    A1_dist_APS = json.load(file)\n",
    "\n",
    "\n",
    "# Read the JSON file\n",
    "with open('D2_star_dist_APS.json', 'r') as file:\n",
    "    D2_star_dist_APS = eval(json.load(file))\n"
   ]
  },
  {
   "cell_type": "code",
   "execution_count": 3,
   "id": "dafde457",
   "metadata": {},
   "outputs": [
    {
     "data": {
      "text/plain": [
       "{0: {0: {0: [0.078, 0.1, 0.822], 1: [-1, -1, -1]},\n",
       "  1: {0: [0.32, 0.025, 0.655], 1: [0.0, 0.175, 0.825]},\n",
       "  2: {0: [0.485, 0.047, 0.468], 1: [0.0, 0.225, 0.775]}},\n",
       " 1: {0: {0: [0.04, 0.145, 0.815], 1: [-1, -1, -1]},\n",
       "  1: {0: [0.068, 0.102, 0.83], 1: [0.0, 0.173, 0.827]},\n",
       "  2: {0: [0.513, 0.045, 0.442], 1: [0.0, 0.217, 0.783]}},\n",
       " 2: {0: {0: [0.012, 0.188, 0.8], 1: [-1, -1, -1]},\n",
       "  1: {0: [0.2, 0.085, 0.715], 1: [0.0, 0.145, 0.855]},\n",
       "  2: {0: [0.5, 0.045, 0.455], 1: [0.0, 0.19, 0.81]}}}"
      ]
     },
     "execution_count": 3,
     "metadata": {},
     "output_type": "execute_result"
    }
   ],
   "source": [
    "rounded_A2_r_APS"
   ]
  },
  {
   "cell_type": "code",
   "execution_count": 4,
   "id": "9ac18ac1",
   "metadata": {},
   "outputs": [
    {
     "data": {
      "text/plain": [
       "[0.0, 0.715, 0.285]"
      ]
     },
     "execution_count": 4,
     "metadata": {},
     "output_type": "execute_result"
    }
   ],
   "source": [
    "A1_dist_APS"
   ]
  },
  {
   "cell_type": "code",
   "execution_count": 5,
   "id": "1de427ff",
   "metadata": {},
   "outputs": [
    {
     "data": {
      "text/plain": [
       "{0: {0: {0: 1, 1: -1}, 1: {0: 1, 1: 2}, 2: {0: 1, 1: 2}},\n",
       " 1: {0: {0: 1, 1: -1}, 1: {0: 1, 1: 2}, 2: {0: 1, 1: 2}},\n",
       " 2: {0: {0: 1, 1: -1}, 1: {0: 1, 1: 2}, 2: {0: 1, 1: 2}}}"
      ]
     },
     "execution_count": 5,
     "metadata": {},
     "output_type": "execute_result"
    }
   ],
   "source": [
    "D2_star_dist_APS"
   ]
  },
  {
   "cell_type": "code",
   "execution_count": 6,
   "id": "556ae617",
   "metadata": {},
   "outputs": [
    {
     "name": "stderr",
     "output_type": "stream",
     "text": [
      "C:\\Users\\ICMAT.DESKTOP-P8IA72N\\Desktop\\ICMAT\\ADT_GITHUB_prep\\air_combat\\defender_air_combat_solvers.py:152: FutureWarning: Unlike other reduction functions (e.g. `skew`, `kurtosis`), the default behavior of `mode` typically preserves the axis it acts along. In SciPy 1.11.0, this behavior will change: the default value of `keepdims` will become False, the `axis` over which the statistic is taken will be eliminated, and the value None will no longer be accepted. Set `keepdims` to True or False to avoid this warning.\n",
      "  d1_opt = mode(d1_samples[int(self.burn*self.N):])[0][0]\n"
     ]
    },
    {
     "data": {
      "text/plain": [
       "(1, array([2, 2, 2, ..., 1, 2, 2]), Counter({2: 3567, 1: 3851, 0: 2582}))"
      ]
     },
     "execution_count": 6,
     "metadata": {},
     "output_type": "execute_result"
    }
   ],
   "source": [
    "def_APS = Defender_APS_fixed_h(A1 = A1_dist_APS , A2_d1_theta1_a1 = rounded_A2_r_APS,N=40000, h=15)\n",
    "def_APS.D1_star_dist_APS(D2_d1_a1_theta1 = D2_star_dist_APS)"
   ]
  }
 ],
 "metadata": {
  "kernelspec": {
   "display_name": "Python 3 (ipykernel)",
   "language": "python",
   "name": "python3"
  },
  "language_info": {
   "codemirror_mode": {
    "name": "ipython",
    "version": 3
   },
   "file_extension": ".py",
   "mimetype": "text/x-python",
   "name": "python",
   "nbconvert_exporter": "python",
   "pygments_lexer": "ipython3",
   "version": "3.10.9"
  }
 },
 "nbformat": 4,
 "nbformat_minor": 5
}
