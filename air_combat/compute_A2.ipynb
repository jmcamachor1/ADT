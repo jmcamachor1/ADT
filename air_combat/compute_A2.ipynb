{
 "cells": [
  {
   "cell_type": "code",
   "execution_count": 1,
   "id": "e3806e6e",
   "metadata": {},
   "outputs": [],
   "source": [
    "%load_ext autoreload\n",
    "%autoreload 2\n",
    "import time, json\n",
    "from attacker_air_combat_solvers import Attacker_APS_fixed_h"
   ]
  },
  {
   "cell_type": "markdown",
   "id": "2ea21870",
   "metadata": {},
   "source": [
    "#### 000"
   ]
  },
  {
   "cell_type": "code",
   "execution_count": 3,
   "id": "937c0d09",
   "metadata": {},
   "outputs": [
    {
     "name": "stderr",
     "output_type": "stream",
     "text": [
      "C:\\Users\\ICMAT.DESKTOP-P8IA72N\\Desktop\\ICMAT\\ADT_28_05_24\\air_combat\\attacker_air_combat_solvers.py:175: FutureWarning: Unlike other reduction functions (e.g. `skew`, `kurtosis`), the default behavior of `mode` typically preserves the axis it acts along. In SciPy 1.11.0, this behavior will change: the default value of `keepdims` will become False, the `axis` over which the statistic is taken will be eliminated, and the value None will no longer be accepted. Set `keepdims` to True or False to avoid this warning.\n",
      "  idx = mode(a2_samples[int(self.burn*self.N2):])[0][0]\n"
     ]
    },
    {
     "data": {
      "text/plain": [
       "array([0.0775, 0.1   , 0.8225])"
      ]
     },
     "execution_count": 3,
     "metadata": {},
     "output_type": "execute_result"
    }
   ],
   "source": [
    "att_APS = Attacker_APS_fixed_h(h = 1, N1 = 400, N2 = 5000, burn = 0.75)\n",
    "att_APS.A2_given_d1_theta1_a1_APS(0,0,0)"
   ]
  },
  {
   "cell_type": "markdown",
   "id": "ae21e779",
   "metadata": {},
   "source": [
    "#### 010"
   ]
  },
  {
   "cell_type": "code",
   "execution_count": 5,
   "id": "468cdd47",
   "metadata": {},
   "outputs": [
    {
     "data": {
      "text/plain": [
       "array([0.32 , 0.025, 0.655])"
      ]
     },
     "execution_count": 5,
     "metadata": {},
     "output_type": "execute_result"
    }
   ],
   "source": [
    "att_APS = Attacker_APS_fixed_h(h = 1, N1 = 400, N2 = 5000, burn = 0.75)\n",
    "att_APS.A2_given_d1_theta1_a1_APS(0,1,0)"
   ]
  },
  {
   "cell_type": "markdown",
   "id": "00f1f3b1",
   "metadata": {},
   "source": [
    "#### 011"
   ]
  },
  {
   "cell_type": "code",
   "execution_count": 7,
   "id": "0f3ac34f",
   "metadata": {},
   "outputs": [
    {
     "data": {
      "text/plain": [
       "array([0.   , 0.175, 0.825])"
      ]
     },
     "execution_count": 7,
     "metadata": {},
     "output_type": "execute_result"
    }
   ],
   "source": [
    "att_APS = Attacker_APS_fixed_h(h = 3, N1 = 400, N2 = 5000)\n",
    "att_APS.A2_given_d1_theta1_a1_APS(0,1,1)"
   ]
  },
  {
   "cell_type": "markdown",
   "id": "af3eec79",
   "metadata": {},
   "source": [
    "#### 020"
   ]
  },
  {
   "cell_type": "code",
   "execution_count": 9,
   "id": "9b09a970",
   "metadata": {},
   "outputs": [
    {
     "data": {
      "text/plain": [
       "array([0.485 , 0.0475, 0.4675])"
      ]
     },
     "execution_count": 9,
     "metadata": {},
     "output_type": "execute_result"
    }
   ],
   "source": [
    "att_APS = Attacker_APS_fixed_h(h = 1, N1 = 400, N2 = 5000)\n",
    "att_APS.A2_given_d1_theta1_a1_APS(0,2,0)"
   ]
  },
  {
   "cell_type": "markdown",
   "id": "d44055a9",
   "metadata": {},
   "source": [
    "#### 021"
   ]
  },
  {
   "cell_type": "code",
   "execution_count": 11,
   "id": "1221b4e6",
   "metadata": {},
   "outputs": [
    {
     "data": {
      "text/plain": [
       "array([0.   , 0.225, 0.775])"
      ]
     },
     "execution_count": 11,
     "metadata": {},
     "output_type": "execute_result"
    }
   ],
   "source": [
    "att_APS = Attacker_APS_fixed_h(h = 7, N1 = 400, N2 = 5000)\n",
    "att_APS.A2_given_d1_theta1_a1_APS(0,2,1)"
   ]
  },
  {
   "cell_type": "markdown",
   "id": "496f1805",
   "metadata": {},
   "source": [
    "#### 100"
   ]
  },
  {
   "cell_type": "code",
   "execution_count": 13,
   "id": "b6cd4158",
   "metadata": {},
   "outputs": [
    {
     "data": {
      "text/plain": [
       "array([0.04 , 0.145, 0.815])"
      ]
     },
     "execution_count": 13,
     "metadata": {},
     "output_type": "execute_result"
    }
   ],
   "source": [
    "att_APS = Attacker_APS_fixed_h(h = 1, N1 = 400, N2 = 5000)\n",
    "att_APS.A2_given_d1_theta1_a1_APS(1,0,0)"
   ]
  },
  {
   "cell_type": "markdown",
   "id": "e5fad522",
   "metadata": {},
   "source": [
    "### 110"
   ]
  },
  {
   "cell_type": "code",
   "execution_count": 15,
   "id": "84c0494e",
   "metadata": {},
   "outputs": [
    {
     "data": {
      "text/plain": [
       "array([0.0675, 0.1025, 0.83  ])"
      ]
     },
     "execution_count": 15,
     "metadata": {},
     "output_type": "execute_result"
    }
   ],
   "source": [
    "att_APS = Attacker_APS_fixed_h(h = 1, N1 = 400, N2 = 5000)\n",
    "att_APS.A2_given_d1_theta1_a1_APS(1,1,0)"
   ]
  },
  {
   "cell_type": "markdown",
   "id": "6274b9aa",
   "metadata": {},
   "source": [
    "### 111"
   ]
  },
  {
   "cell_type": "code",
   "execution_count": 17,
   "id": "df0e2d21",
   "metadata": {},
   "outputs": [
    {
     "data": {
      "text/plain": [
       "array([0.    , 0.1725, 0.8275])"
      ]
     },
     "execution_count": 17,
     "metadata": {},
     "output_type": "execute_result"
    }
   ],
   "source": [
    "att_APS = Attacker_APS_fixed_h(h = 3, N1 = 400, N2 = 5000)\n",
    "att_APS.A2_given_d1_theta1_a1_APS(1,1,1)"
   ]
  },
  {
   "cell_type": "markdown",
   "id": "4c01abf7",
   "metadata": {},
   "source": [
    "### 120"
   ]
  },
  {
   "cell_type": "code",
   "execution_count": 19,
   "id": "80912dda",
   "metadata": {},
   "outputs": [
    {
     "data": {
      "text/plain": [
       "array([0.5125, 0.045 , 0.4425])"
      ]
     },
     "execution_count": 19,
     "metadata": {},
     "output_type": "execute_result"
    }
   ],
   "source": [
    "att_APS = Attacker_APS_fixed_h(h = 2, N1 = 400, N2 = 5000)\n",
    "att_APS.A2_given_d1_theta1_a1_APS(1,2,0)"
   ]
  },
  {
   "cell_type": "markdown",
   "id": "22b3610c",
   "metadata": {},
   "source": [
    "### 121"
   ]
  },
  {
   "cell_type": "code",
   "execution_count": 21,
   "id": "f2af16d4",
   "metadata": {},
   "outputs": [
    {
     "data": {
      "text/plain": [
       "array([0.    , 0.2175, 0.7825])"
      ]
     },
     "execution_count": 21,
     "metadata": {},
     "output_type": "execute_result"
    }
   ],
   "source": [
    "att_APS = Attacker_APS_fixed_h(h = 3, N1 = 400, N2 = 5000)\n",
    "att_APS.A2_given_d1_theta1_a1_APS(1,2,1)"
   ]
  },
  {
   "cell_type": "markdown",
   "id": "5acfc890",
   "metadata": {},
   "source": [
    "#### 200"
   ]
  },
  {
   "cell_type": "code",
   "execution_count": 23,
   "id": "64c223f2",
   "metadata": {},
   "outputs": [
    {
     "data": {
      "text/plain": [
       "array([0.012, 0.188, 0.8  ])"
      ]
     },
     "execution_count": 23,
     "metadata": {},
     "output_type": "execute_result"
    }
   ],
   "source": [
    "att_APS = Attacker_APS_fixed_h(h = 1, N1 = 250, N2 = 5000)\n",
    "att_APS.A2_given_d1_theta1_a1_APS(2,0,0)"
   ]
  },
  {
   "cell_type": "markdown",
   "id": "93887159",
   "metadata": {},
   "source": [
    "#### 210"
   ]
  },
  {
   "cell_type": "code",
   "execution_count": 25,
   "id": "6a5b5d8a",
   "metadata": {},
   "outputs": [
    {
     "data": {
      "text/plain": [
       "array([0.2  , 0.085, 0.715])"
      ]
     },
     "execution_count": 25,
     "metadata": {},
     "output_type": "execute_result"
    }
   ],
   "source": [
    "att_APS = Attacker_APS_fixed_h(h = 1, N1 = 200, N2 = 5000)\n",
    "att_APS.A2_given_d1_theta1_a1_APS(2,1,0)"
   ]
  },
  {
   "cell_type": "markdown",
   "id": "126e0e93",
   "metadata": {},
   "source": [
    "#### 211"
   ]
  },
  {
   "cell_type": "code",
   "execution_count": 27,
   "id": "5add540f",
   "metadata": {},
   "outputs": [
    {
     "data": {
      "text/plain": [
       "array([0.   , 0.145, 0.855])"
      ]
     },
     "execution_count": 27,
     "metadata": {},
     "output_type": "execute_result"
    }
   ],
   "source": [
    "att_APS = Attacker_APS_fixed_h(h = 2, N1 = 200, N2 = 5000)\n",
    "att_APS.A2_given_d1_theta1_a1_APS(2,1,1)"
   ]
  },
  {
   "cell_type": "markdown",
   "id": "76e4d664",
   "metadata": {},
   "source": [
    "#### 220"
   ]
  },
  {
   "cell_type": "code",
   "execution_count": 29,
   "id": "3f35baf4",
   "metadata": {},
   "outputs": [
    {
     "data": {
      "text/plain": [
       "array([0.5  , 0.045, 0.455])"
      ]
     },
     "execution_count": 29,
     "metadata": {},
     "output_type": "execute_result"
    }
   ],
   "source": [
    "att_APS = Attacker_APS_fixed_h(h = 1, N1 = 200, N2 = 5000)\n",
    "att_APS.A2_given_d1_theta1_a1_APS(2,2,0)"
   ]
  },
  {
   "cell_type": "markdown",
   "id": "0230d021",
   "metadata": {},
   "source": [
    "#### 221"
   ]
  },
  {
   "cell_type": "code",
   "execution_count": 31,
   "id": "0fa193e6",
   "metadata": {},
   "outputs": [
    {
     "data": {
      "text/plain": [
       "array([0.  , 0.19, 0.81])"
      ]
     },
     "execution_count": 31,
     "metadata": {},
     "output_type": "execute_result"
    }
   ],
   "source": [
    "att_APS = Attacker_APS_fixed_h(h = 1, N1 = 200, N2 = 5000)\n",
    "att_APS.A2_given_d1_theta1_a1_APS(2,2,1)"
   ]
  },
  {
   "cell_type": "code",
   "execution_count": 11,
   "id": "dabaae9b",
   "metadata": {},
   "outputs": [],
   "source": [
    "A2_APS_r = {0: {0: {0: [.078,.1, .822], 1: [-1,-1,-1]},\n",
    "  1: {0: [.320,.025,.655], 1: [.000,.175,.825]},\n",
    "  2: {0: [.485,.047,.468], 1: [.000,.225,.775]}},\n",
    " 1: {0: {0: [.040,.145,.815], 1: [-1,-1,-1]},\n",
    "  1: {0: [.068,.102,.830], 1: [.000,.173,.827]},\n",
    "  2: {0: [.513,.045,.442], 1: [.000,.217,.783]}},\n",
    " 2: {0: {0: [.012,.188,.800], 1: [-1,-1,-1]},\n",
    "  1: {0: [.200,.0850,.715], 1: [.000,.145,.855]},\n",
    "  2: {0: [.5,.045,.455], 1: [.000,.190,.810]}}}"
   ]
  },
  {
   "cell_type": "code",
   "execution_count": 12,
   "id": "edb46856",
   "metadata": {},
   "outputs": [
    {
     "data": {
      "text/plain": [
       "{0: {0: {0: [0.078, 0.1, 0.822], 1: [-1, -1, -1]},\n",
       "  1: {0: [0.32, 0.025, 0.655], 1: [0.0, 0.175, 0.825]},\n",
       "  2: {0: [0.485, 0.047, 0.468], 1: [0.0, 0.225, 0.775]}},\n",
       " 1: {0: {0: [0.04, 0.145, 0.815], 1: [-1, -1, -1]},\n",
       "  1: {0: [0.068, 0.102, 0.83], 1: [0.0, 0.173, 0.827]},\n",
       "  2: {0: [0.513, 0.045, 0.442], 1: [0.0, 0.217, 0.783]}},\n",
       " 2: {0: {0: [0.012, 0.188, 0.8], 1: [-1, -1, -1]},\n",
       "  1: {0: [0.2, 0.085, 0.715], 1: [0.0, 0.145, 0.855]},\n",
       "  2: {0: [0.5, 0.045, 0.455], 1: [0.0, 0.19, 0.81]}}}"
      ]
     },
     "execution_count": 12,
     "metadata": {},
     "output_type": "execute_result"
    }
   ],
   "source": [
    "A2_APS_r"
   ]
  },
  {
   "cell_type": "code",
   "execution_count": 13,
   "id": "d5f13265",
   "metadata": {},
   "outputs": [],
   "source": [
    "import json\n",
    "\n",
    "filename = 'A2_APS_r_air_combat.json'\n",
    "\n",
    "# Writing the dictionary to a JSON file\n",
    "with open(filename, 'w') as file:\n",
    "    json.dump(A2_APS_r, file, indent=4)  # indent=4 is used to pretty-print the JSON\n"
   ]
  }
 ],
 "metadata": {
  "kernelspec": {
   "display_name": "Python 3 (ipykernel)",
   "language": "python",
   "name": "python3"
  },
  "language_info": {
   "codemirror_mode": {
    "name": "ipython",
    "version": 3
   },
   "file_extension": ".py",
   "mimetype": "text/x-python",
   "name": "python",
   "nbconvert_exporter": "python",
   "pygments_lexer": "ipython3",
   "version": "3.10.9"
  }
 },
 "nbformat": 4,
 "nbformat_minor": 5
}
