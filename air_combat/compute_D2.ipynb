{
 "cells": [
  {
   "cell_type": "code",
   "execution_count": 12,
   "id": "2eb2df21",
   "metadata": {},
   "outputs": [
    {
     "name": "stdout",
     "output_type": "stream",
     "text": [
      "The autoreload extension is already loaded. To reload it, use:\n",
      "  %reload_ext autoreload\n"
     ]
    }
   ],
   "source": [
    "%load_ext autoreload\n",
    "%autoreload 2\n",
    "import time, json\n",
    "from defender_air_combat_solvers import Defender_APS_fixed_h"
   ]
  },
  {
   "cell_type": "code",
   "execution_count": 13,
   "id": "80c4dd4f",
   "metadata": {},
   "outputs": [
    {
     "data": {
      "text/plain": [
       "{0: {0: {0: [0.078, 0.1, 0.822], 1: [-1, -1, -1]},\n",
       "  1: {0: [0.32, 0.025, 0.655], 1: [0.0, 0.175, 0.825]},\n",
       "  2: {0: [0.485, 0.047, 0.468], 1: [0.0, 0.225, 0.775]}},\n",
       " 1: {0: {0: [0.04, 0.145, 0.815], 1: [-1, -1, -1]},\n",
       "  1: {0: [0.068, 0.102, 0.83], 1: [0.0, 0.173, 0.827]},\n",
       "  2: {0: [0.513, 0.045, 0.442], 1: [0.0, 0.217, 0.783]}},\n",
       " 2: {0: {0: [0.012, 0.188, 0.8], 1: [-1, -1, -1]},\n",
       "  1: {0: [0.2, 0.085, 0.715], 1: [0.0, 0.145, 0.855]},\n",
       "  2: {0: [0.5, 0.045, 0.455], 1: [0.0, 0.19, 0.81]}}}"
      ]
     },
     "execution_count": 13,
     "metadata": {},
     "output_type": "execute_result"
    }
   ],
   "source": [
    "with open('A2_APS_r_air_combat.json', 'r') as file:\n",
    "    A2_APS_r = json.load(file)\n",
    "\n",
    "rounded_A2_r_APS = {int(k1): {int(k2): {int(k3): [round(i, 4) for i in A2_APS_r[k1][k2][k3]]for k3 in A2_APS_r[k1][k2]}for k2 in A2_APS_r[k1]}for k1 in A2_APS_r}\n",
    "\n",
    "rounded_A2_r_APS"
   ]
  },
  {
   "cell_type": "code",
   "execution_count": 14,
   "id": "45ad25fd",
   "metadata": {},
   "outputs": [
    {
     "data": {
      "text/plain": [
       "[0.0, 0.715, 0.285]"
      ]
     },
     "execution_count": 14,
     "metadata": {},
     "output_type": "execute_result"
    }
   ],
   "source": [
    "with open('A1_r_APS.json', 'r') as file:\n",
    "    A1_dist_APS = json.load(file)\n",
    "A1_dist_APS"
   ]
  },
  {
   "cell_type": "code",
   "execution_count": 15,
   "id": "c93abc3f",
   "metadata": {},
   "outputs": [],
   "source": [
    "def_APS = Defender_APS_fixed_h(A1 = A1_dist_APS , A2_d1_theta1_a1 = rounded_A2_r_APS,N=20000, h=5)"
   ]
  },
  {
   "cell_type": "code",
   "execution_count": 16,
   "id": "5e7f320d",
   "metadata": {},
   "outputs": [],
   "source": [
    "D2_star_dist_APS = def_APS.D2_star_dist_APS()"
   ]
  },
  {
   "cell_type": "code",
   "execution_count": 17,
   "id": "d3007535",
   "metadata": {},
   "outputs": [
    {
     "data": {
      "text/plain": [
       "{0: {0: {0: 1, 1: -1}, 1: {0: 1, 1: 2}, 2: {0: 1, 1: 2}},\n",
       " 1: {0: {0: 1, 1: -1}, 1: {0: 1, 1: 2}, 2: {0: 1, 1: 2}},\n",
       " 2: {0: {0: 1, 1: -1}, 1: {0: 1, 1: 2}, 2: {0: 1, 1: 2}}}"
      ]
     },
     "execution_count": 17,
     "metadata": {},
     "output_type": "execute_result"
    }
   ],
   "source": [
    "D2_star_dist_APS"
   ]
  },
  {
   "cell_type": "code",
   "execution_count": 11,
   "id": "d8356124",
   "metadata": {},
   "outputs": [],
   "source": [
    "filename = 'D2_star_dist_APS.json'\n",
    "# Convert dictionary keys to strings\n",
    "\n",
    "# Write the dictionary to a JSON file\n",
    "with open(filename, 'w') as file:\n",
    "    json.dump(str(D2_star_dist_APS), file)\n"
   ]
  }
 ],
 "metadata": {
  "kernelspec": {
   "display_name": "Python 3 (ipykernel)",
   "language": "python",
   "name": "python3"
  },
  "language_info": {
   "codemirror_mode": {
    "name": "ipython",
    "version": 3
   },
   "file_extension": ".py",
   "mimetype": "text/x-python",
   "name": "python",
   "nbconvert_exporter": "python",
   "pygments_lexer": "ipython3",
   "version": "3.10.9"
  }
 },
 "nbformat": 4,
 "nbformat_minor": 5
}
